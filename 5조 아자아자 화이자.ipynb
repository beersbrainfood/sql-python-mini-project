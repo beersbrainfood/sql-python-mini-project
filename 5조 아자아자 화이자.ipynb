{
 "cells": [
  {
   "cell_type": "code",
   "execution_count": 1,
   "metadata": {
    "colab": {
     "base_uri": "https://localhost:8080/"
    },
    "executionInfo": {
     "elapsed": 4895,
     "status": "ok",
     "timestamp": 1631772470572,
     "user": {
      "displayName": "Eunseo Yi",
      "photoUrl": "https://lh3.googleusercontent.com/a/default-user=s64",
      "userId": "08808842678818930164"
     },
     "user_tz": -540
    },
    "id": "UWrsLwYeO3CQ",
    "outputId": "809c2d89-cbd8-4d1f-ece5-cc53d6f79702"
   },
   "outputs": [
    {
     "name": "stdout",
     "output_type": "stream",
     "text": [
      "Reading package lists... Done\n",
      "Building dependency tree       \n",
      "Reading state information... Done\n",
      "fonts-nanum is already the newest version (20170925-1).\n",
      "0 upgraded, 0 newly installed, 0 to remove and 40 not upgraded.\n",
      "/usr/share/fonts: caching, new cache contents: 0 fonts, 1 dirs\n",
      "/usr/share/fonts/truetype: caching, new cache contents: 0 fonts, 3 dirs\n",
      "/usr/share/fonts/truetype/humor-sans: caching, new cache contents: 1 fonts, 0 dirs\n",
      "/usr/share/fonts/truetype/liberation: caching, new cache contents: 16 fonts, 0 dirs\n",
      "/usr/share/fonts/truetype/nanum: caching, new cache contents: 10 fonts, 0 dirs\n",
      "/usr/local/share/fonts: caching, new cache contents: 0 fonts, 0 dirs\n",
      "/root/.local/share/fonts: skipping, no such directory\n",
      "/root/.fonts: skipping, no such directory\n",
      "/var/cache/fontconfig: cleaning cache directory\n",
      "/root/.cache/fontconfig: not cleaning non-existent cache directory\n",
      "/root/.fontconfig: not cleaning non-existent cache directory\n",
      "fc-cache: succeeded\n"
     ]
    }
   ],
   "source": [
    "!sudo apt-get install -y fonts-nanum\n",
    "!sudo fc-cache -fv\n",
    "!rm ~/.cache/matplotlib -rf"
   ]
  },
  {
   "cell_type": "markdown",
   "metadata": {
    "id": "Us9YD1AP-ShO"
   },
   "source": [
    "# **부산 내 관광지별 외국인 관광객 소비금액 분석 (2020 - 2021)**\n",
    "\n",
    "- 최강5조 (조원 : 문지수, 이은서[조장], 한광욱, 황지혜)\n",
    "\n",
    "### 프로젝트 목차\n",
    "- 제목 \n",
    "- 팀원 소개 \n",
    "- 분석 배경 (기획의도)\n",
    "1. 데이터 찾기가 쉬웠다\n",
    "2. 외국인 관광객 천만명 유치 예정 - 현행 분석 중점으로 둠\n",
    "3. 정책 시행 후 데이터와 이번 프로젝트의 분석 데이터를 비교할 예정 - 추후 과제\n",
    "- 데이타 수집 \n",
    "- 전처리 : 결측치 + 오탈자 수정 + 평균 컬럼 추가\n",
    "- 데이터 분석 : (그룹 별 데이터 추출, 시각화 후 결과값 분석 예정)\n",
    "- SQL 또는 CSV 저장 : csv 저장 - df.to_csv method, sql upload - load data\n",
    "- 기사 크롤링\n",
    "- 데이타 출처 - 부산데이터진흥원\n",
    "- 추후 과제 (프로젝트 후기)\n",
    "정책 시행 후 데이터와 이번 프로젝트의 분석 데이터를 비교할 예정 - 추후 과제"
   ]
  },
  {
   "cell_type": "markdown",
   "metadata": {
    "id": "BDpZIndCgZDd"
   },
   "source": [
    "## 데이터 전처리\n",
    "- 결측치 확인\n",
    "- 오탈자 확인 및 처리"
   ]
  },
  {
   "cell_type": "code",
   "execution_count": 5,
   "metadata": {
    "colab": {
     "base_uri": "https://localhost:8080/",
     "height": 50
    },
    "executionInfo": {
     "elapsed": 438,
     "status": "ok",
     "timestamp": 1631772920807,
     "user": {
      "displayName": "Eunseo Yi",
      "photoUrl": "https://lh3.googleusercontent.com/a/default-user=s64",
      "userId": "08808842678818930164"
     },
     "user_tz": -540
    },
    "id": "Mp34lkQ5BGeL",
    "outputId": "031379d3-d689-48e3-9c6f-b7453ecfd5c1"
   },
   "outputs": [
    {
     "data": {
      "text/plain": [
       "<Figure size 640x480 with 0 Axes>"
      ]
     },
     "execution_count": 5,
     "metadata": {},
     "output_type": "execute_result"
    },
    {
     "data": {
      "text/plain": [
       "<Figure size 640x480 with 0 Axes>"
      ]
     },
     "metadata": {},
     "output_type": "display_data"
    }
   ],
   "source": [
    "# 관련 모듈 임포트\n",
    "import pandas as pd\n",
    "import numpy as np\n",
    "import matplotlib.pyplot as plt\n",
    "from matplotlib import rc\n",
    "import matplotlib.font_manager as fm\n",
    "plt.rc('font', family='NanumBarunGothic') \n",
    "from matplotlib.pyplot import figure"
   ]
  },
  {
   "cell_type": "code",
   "execution_count": 6,
   "metadata": {
    "colab": {
     "base_uri": "https://localhost:8080/",
     "height": 417
    },
    "executionInfo": {
     "elapsed": 33,
     "status": "ok",
     "timestamp": 1631772921417,
     "user": {
      "displayName": "Eunseo Yi",
      "photoUrl": "https://lh3.googleusercontent.com/a/default-user=s64",
      "userId": "08808842678818930164"
     },
     "user_tz": -540
    },
    "id": "_ZsYrB0f-tgC",
    "outputId": "d8f2053a-ec11-4728-d8ce-8e58cf399347"
   },
   "outputs": [
    {
     "data": {
      "text/html": [
       "<div>\n",
       "<style scoped>\n",
       "    .dataframe tbody tr th:only-of-type {\n",
       "        vertical-align: middle;\n",
       "    }\n",
       "\n",
       "    .dataframe tbody tr th {\n",
       "        vertical-align: top;\n",
       "    }\n",
       "\n",
       "    .dataframe thead th {\n",
       "        text-align: right;\n",
       "    }\n",
       "</style>\n",
       "<table border=\"1\" class=\"dataframe\">\n",
       "  <thead>\n",
       "    <tr style=\"text-align: right;\">\n",
       "      <th></th>\n",
       "      <th>PLACE_NM</th>\n",
       "      <th>COUNTRY_NM</th>\n",
       "      <th>CARD_UTILIIZA_PRICE</th>\n",
       "      <th>CARD_UTILIIZA_CAS_CO</th>\n",
       "      <th>BASE_QUARTER</th>\n",
       "    </tr>\n",
       "  </thead>\n",
       "  <tbody>\n",
       "    <tr>\n",
       "      <th>0</th>\n",
       "      <td>BIFF광장&amp;용두산공원&amp;보수동책방골목</td>\n",
       "      <td>일본</td>\n",
       "      <td>226489999</td>\n",
       "      <td>5228</td>\n",
       "      <td>2020년 1분기</td>\n",
       "    </tr>\n",
       "    <tr>\n",
       "      <th>1</th>\n",
       "      <td>BIFF광장&amp;용두산공원&amp;보수동책방골목</td>\n",
       "      <td>대만</td>\n",
       "      <td>159608606</td>\n",
       "      <td>2703</td>\n",
       "      <td>2020년 1분기</td>\n",
       "    </tr>\n",
       "    <tr>\n",
       "      <th>2</th>\n",
       "      <td>BIFF광장&amp;용두산공원&amp;보수동책방골목</td>\n",
       "      <td>중국</td>\n",
       "      <td>53957560</td>\n",
       "      <td>864</td>\n",
       "      <td>2020년 1분기</td>\n",
       "    </tr>\n",
       "    <tr>\n",
       "      <th>3</th>\n",
       "      <td>BIFF광장&amp;용두산공원&amp;보수동책방골목</td>\n",
       "      <td>미국</td>\n",
       "      <td>48896670</td>\n",
       "      <td>1477</td>\n",
       "      <td>2020년 1분기</td>\n",
       "    </tr>\n",
       "    <tr>\n",
       "      <th>4</th>\n",
       "      <td>BIFF광장&amp;용두산공원&amp;보수동책방골목</td>\n",
       "      <td>태국</td>\n",
       "      <td>16107500</td>\n",
       "      <td>335</td>\n",
       "      <td>2020년 1분기</td>\n",
       "    </tr>\n",
       "    <tr>\n",
       "      <th>...</th>\n",
       "      <td>...</td>\n",
       "      <td>...</td>\n",
       "      <td>...</td>\n",
       "      <td>...</td>\n",
       "      <td>...</td>\n",
       "    </tr>\n",
       "    <tr>\n",
       "      <th>3297</th>\n",
       "      <td>흰여울문화마을</td>\n",
       "      <td>콜롬비아</td>\n",
       "      <td>11000</td>\n",
       "      <td>2</td>\n",
       "      <td>2021년 1분기</td>\n",
       "    </tr>\n",
       "    <tr>\n",
       "      <th>3298</th>\n",
       "      <td>흰여울문화마을</td>\n",
       "      <td>그리스</td>\n",
       "      <td>10000</td>\n",
       "      <td>1</td>\n",
       "      <td>2021년 1분기</td>\n",
       "    </tr>\n",
       "    <tr>\n",
       "      <th>3299</th>\n",
       "      <td>흰여울문화마을</td>\n",
       "      <td>오스트레일리아</td>\n",
       "      <td>10000</td>\n",
       "      <td>1</td>\n",
       "      <td>2021년 1분기</td>\n",
       "    </tr>\n",
       "    <tr>\n",
       "      <th>3300</th>\n",
       "      <td>흰여울문화마을</td>\n",
       "      <td>스웨덴</td>\n",
       "      <td>6500</td>\n",
       "      <td>1</td>\n",
       "      <td>2021년 1분기</td>\n",
       "    </tr>\n",
       "    <tr>\n",
       "      <th>3301</th>\n",
       "      <td>흰여울문화마을</td>\n",
       "      <td>태국</td>\n",
       "      <td>5000</td>\n",
       "      <td>1</td>\n",
       "      <td>2021년 1분기</td>\n",
       "    </tr>\n",
       "  </tbody>\n",
       "</table>\n",
       "<p>3302 rows × 5 columns</p>\n",
       "</div>"
      ],
      "text/plain": [
       "                  PLACE_NM COUNTRY_NM  ...  CARD_UTILIIZA_CAS_CO  BASE_QUARTER\n",
       "0     BIFF광장&용두산공원&보수동책방골목         일본  ...                  5228     2020년 1분기\n",
       "1     BIFF광장&용두산공원&보수동책방골목         대만  ...                  2703     2020년 1분기\n",
       "2     BIFF광장&용두산공원&보수동책방골목         중국  ...                   864     2020년 1분기\n",
       "3     BIFF광장&용두산공원&보수동책방골목         미국  ...                  1477     2020년 1분기\n",
       "4     BIFF광장&용두산공원&보수동책방골목         태국  ...                   335     2020년 1분기\n",
       "...                    ...        ...  ...                   ...           ...\n",
       "3297               흰여울문화마을       콜롬비아  ...                     2     2021년 1분기\n",
       "3298               흰여울문화마을        그리스  ...                     1     2021년 1분기\n",
       "3299               흰여울문화마을    오스트레일리아  ...                     1     2021년 1분기\n",
       "3300               흰여울문화마을        스웨덴  ...                     1     2021년 1분기\n",
       "3301               흰여울문화마을         태국  ...                     1     2021년 1분기\n",
       "\n",
       "[3302 rows x 5 columns]"
      ]
     },
     "execution_count": 6,
     "metadata": {},
     "output_type": "execute_result"
    }
   ],
   "source": [
    "# 데이터 불러오기\n",
    "df = pd.read_csv('/content/drive/MyDrive/project_pfizer/BC_BS_TRRSRT_INFLOW_NLTY_ACCTO_CARD_UTILIIZA_LIST_202106.csv'); df"
   ]
  },
  {
   "cell_type": "code",
   "execution_count": 7,
   "metadata": {
    "colab": {
     "base_uri": "https://localhost:8080/",
     "height": 203
    },
    "executionInfo": {
     "elapsed": 34,
     "status": "ok",
     "timestamp": 1631772921420,
     "user": {
      "displayName": "Eunseo Yi",
      "photoUrl": "https://lh3.googleusercontent.com/a/default-user=s64",
      "userId": "08808842678818930164"
     },
     "user_tz": -540
    },
    "id": "q9K36V5iVkNm",
    "outputId": "145191b0-3260-4048-b6a4-5fc214b7a1df"
   },
   "outputs": [
    {
     "data": {
      "text/html": [
       "<div>\n",
       "<style scoped>\n",
       "    .dataframe tbody tr th:only-of-type {\n",
       "        vertical-align: middle;\n",
       "    }\n",
       "\n",
       "    .dataframe tbody tr th {\n",
       "        vertical-align: top;\n",
       "    }\n",
       "\n",
       "    .dataframe thead th {\n",
       "        text-align: right;\n",
       "    }\n",
       "</style>\n",
       "<table border=\"1\" class=\"dataframe\">\n",
       "  <thead>\n",
       "    <tr style=\"text-align: right;\">\n",
       "      <th></th>\n",
       "      <th>PLACE_NM</th>\n",
       "      <th>COUNTRY_NM</th>\n",
       "      <th>CARD_UTILIIZA_PRICE</th>\n",
       "      <th>CARD_UTILIIZA_CAS_CO</th>\n",
       "      <th>BASE_QUARTER</th>\n",
       "    </tr>\n",
       "  </thead>\n",
       "  <tbody>\n",
       "    <tr>\n",
       "      <th>0</th>\n",
       "      <td>BIFF광장&amp;용두산공원&amp;보수동책방골목</td>\n",
       "      <td>일본</td>\n",
       "      <td>226489999</td>\n",
       "      <td>5228</td>\n",
       "      <td>2020년 1분기</td>\n",
       "    </tr>\n",
       "    <tr>\n",
       "      <th>1</th>\n",
       "      <td>BIFF광장&amp;용두산공원&amp;보수동책방골목</td>\n",
       "      <td>대만</td>\n",
       "      <td>159608606</td>\n",
       "      <td>2703</td>\n",
       "      <td>2020년 1분기</td>\n",
       "    </tr>\n",
       "    <tr>\n",
       "      <th>2</th>\n",
       "      <td>BIFF광장&amp;용두산공원&amp;보수동책방골목</td>\n",
       "      <td>중국</td>\n",
       "      <td>53957560</td>\n",
       "      <td>864</td>\n",
       "      <td>2020년 1분기</td>\n",
       "    </tr>\n",
       "    <tr>\n",
       "      <th>3</th>\n",
       "      <td>BIFF광장&amp;용두산공원&amp;보수동책방골목</td>\n",
       "      <td>미국</td>\n",
       "      <td>48896670</td>\n",
       "      <td>1477</td>\n",
       "      <td>2020년 1분기</td>\n",
       "    </tr>\n",
       "    <tr>\n",
       "      <th>4</th>\n",
       "      <td>BIFF광장&amp;용두산공원&amp;보수동책방골목</td>\n",
       "      <td>태국</td>\n",
       "      <td>16107500</td>\n",
       "      <td>335</td>\n",
       "      <td>2020년 1분기</td>\n",
       "    </tr>\n",
       "  </tbody>\n",
       "</table>\n",
       "</div>"
      ],
      "text/plain": [
       "               PLACE_NM COUNTRY_NM  ...  CARD_UTILIIZA_CAS_CO  BASE_QUARTER\n",
       "0  BIFF광장&용두산공원&보수동책방골목         일본  ...                  5228     2020년 1분기\n",
       "1  BIFF광장&용두산공원&보수동책방골목         대만  ...                  2703     2020년 1분기\n",
       "2  BIFF광장&용두산공원&보수동책방골목         중국  ...                   864     2020년 1분기\n",
       "3  BIFF광장&용두산공원&보수동책방골목         미국  ...                  1477     2020년 1분기\n",
       "4  BIFF광장&용두산공원&보수동책방골목         태국  ...                   335     2020년 1분기\n",
       "\n",
       "[5 rows x 5 columns]"
      ]
     },
     "execution_count": 7,
     "metadata": {},
     "output_type": "execute_result"
    }
   ],
   "source": [
    "df.head()"
   ]
  },
  {
   "cell_type": "code",
   "execution_count": 8,
   "metadata": {
    "colab": {
     "base_uri": "https://localhost:8080/"
    },
    "executionInfo": {
     "elapsed": 34,
     "status": "ok",
     "timestamp": 1631772921421,
     "user": {
      "displayName": "Eunseo Yi",
      "photoUrl": "https://lh3.googleusercontent.com/a/default-user=s64",
      "userId": "08808842678818930164"
     },
     "user_tz": -540
    },
    "id": "7A_Uuq8AHPlQ",
    "outputId": "cb899d85-2b2d-4c51-9520-b6c08ba2c7fa"
   },
   "outputs": [
    {
     "name": "stdout",
     "output_type": "stream",
     "text": [
      "<class 'pandas.core.frame.DataFrame'>\n",
      "RangeIndex: 3302 entries, 0 to 3301\n",
      "Data columns (total 5 columns):\n",
      " #   Column                Non-Null Count  Dtype \n",
      "---  ------                --------------  ----- \n",
      " 0   PLACE_NM              3302 non-null   object\n",
      " 1   COUNTRY_NM            3302 non-null   object\n",
      " 2   CARD_UTILIIZA_PRICE   3302 non-null   int64 \n",
      " 3   CARD_UTILIIZA_CAS_CO  3302 non-null   int64 \n",
      " 4   BASE_QUARTER          3302 non-null   object\n",
      "dtypes: int64(2), object(3)\n",
      "memory usage: 129.1+ KB\n"
     ]
    }
   ],
   "source": [
    "df.info() # 데이터 정보 확인"
   ]
  },
  {
   "cell_type": "code",
   "execution_count": 9,
   "metadata": {
    "colab": {
     "base_uri": "https://localhost:8080/"
    },
    "executionInfo": {
     "elapsed": 29,
     "status": "ok",
     "timestamp": 1631772921421,
     "user": {
      "displayName": "Eunseo Yi",
      "photoUrl": "https://lh3.googleusercontent.com/a/default-user=s64",
      "userId": "08808842678818930164"
     },
     "user_tz": -540
    },
    "id": "zKEuPN2rgLFn",
    "outputId": "80d23fd8-6962-46f1-a39d-d7ab9659dbaf"
   },
   "outputs": [
    {
     "data": {
      "text/plain": [
       "PLACE_NM                0\n",
       "COUNTRY_NM              0\n",
       "CARD_UTILIIZA_PRICE     0\n",
       "CARD_UTILIIZA_CAS_CO    0\n",
       "BASE_QUARTER            0\n",
       "dtype: int64"
      ]
     },
     "execution_count": 9,
     "metadata": {},
     "output_type": "execute_result"
    }
   ],
   "source": [
    "df.isnull().sum() # 결측치 확인"
   ]
  },
  {
   "cell_type": "code",
   "execution_count": 10,
   "metadata": {
    "colab": {
     "base_uri": "https://localhost:8080/",
     "height": 295
    },
    "executionInfo": {
     "elapsed": 26,
     "status": "ok",
     "timestamp": 1631772921422,
     "user": {
      "displayName": "Eunseo Yi",
      "photoUrl": "https://lh3.googleusercontent.com/a/default-user=s64",
      "userId": "08808842678818930164"
     },
     "user_tz": -540
    },
    "id": "Kc5SXFJZgQKo",
    "outputId": "eda3d950-0c8c-445c-a65c-c83d86da6dc8"
   },
   "outputs": [
    {
     "data": {
      "text/html": [
       "<div>\n",
       "<style scoped>\n",
       "    .dataframe tbody tr th:only-of-type {\n",
       "        vertical-align: middle;\n",
       "    }\n",
       "\n",
       "    .dataframe tbody tr th {\n",
       "        vertical-align: top;\n",
       "    }\n",
       "\n",
       "    .dataframe thead th {\n",
       "        text-align: right;\n",
       "    }\n",
       "</style>\n",
       "<table border=\"1\" class=\"dataframe\">\n",
       "  <thead>\n",
       "    <tr style=\"text-align: right;\">\n",
       "      <th></th>\n",
       "      <th>CARD_UTILIIZA_PRICE</th>\n",
       "      <th>CARD_UTILIIZA_CAS_CO</th>\n",
       "    </tr>\n",
       "  </thead>\n",
       "  <tbody>\n",
       "    <tr>\n",
       "      <th>count</th>\n",
       "      <td>3.302000e+03</td>\n",
       "      <td>3302.00000</td>\n",
       "    </tr>\n",
       "    <tr>\n",
       "      <th>mean</th>\n",
       "      <td>8.804272e+06</td>\n",
       "      <td>77.78407</td>\n",
       "    </tr>\n",
       "    <tr>\n",
       "      <th>std</th>\n",
       "      <td>6.415556e+07</td>\n",
       "      <td>508.33583</td>\n",
       "    </tr>\n",
       "    <tr>\n",
       "      <th>min</th>\n",
       "      <td>3.000000e+02</td>\n",
       "      <td>1.00000</td>\n",
       "    </tr>\n",
       "    <tr>\n",
       "      <th>25%</th>\n",
       "      <td>2.900000e+04</td>\n",
       "      <td>2.00000</td>\n",
       "    </tr>\n",
       "    <tr>\n",
       "      <th>50%</th>\n",
       "      <td>1.300000e+05</td>\n",
       "      <td>5.00000</td>\n",
       "    </tr>\n",
       "    <tr>\n",
       "      <th>75%</th>\n",
       "      <td>7.755750e+05</td>\n",
       "      <td>17.00000</td>\n",
       "    </tr>\n",
       "    <tr>\n",
       "      <th>max</th>\n",
       "      <td>1.410758e+09</td>\n",
       "      <td>12358.00000</td>\n",
       "    </tr>\n",
       "  </tbody>\n",
       "</table>\n",
       "</div>"
      ],
      "text/plain": [
       "       CARD_UTILIIZA_PRICE  CARD_UTILIIZA_CAS_CO\n",
       "count         3.302000e+03            3302.00000\n",
       "mean          8.804272e+06              77.78407\n",
       "std           6.415556e+07             508.33583\n",
       "min           3.000000e+02               1.00000\n",
       "25%           2.900000e+04               2.00000\n",
       "50%           1.300000e+05               5.00000\n",
       "75%           7.755750e+05              17.00000\n",
       "max           1.410758e+09           12358.00000"
      ]
     },
     "execution_count": 10,
     "metadata": {},
     "output_type": "execute_result"
    }
   ],
   "source": [
    "df.describe() # 수치형 변수 요약"
   ]
  },
  {
   "cell_type": "code",
   "execution_count": 11,
   "metadata": {
    "colab": {
     "base_uri": "https://localhost:8080/"
    },
    "executionInfo": {
     "elapsed": 25,
     "status": "ok",
     "timestamp": 1631772921423,
     "user": {
      "displayName": "Eunseo Yi",
      "photoUrl": "https://lh3.googleusercontent.com/a/default-user=s64",
      "userId": "08808842678818930164"
     },
     "user_tz": -540
    },
    "id": "Wg2KFqQJOfyv",
    "outputId": "916a987a-b1e2-41de-8566-53acf426c8d6"
   },
   "outputs": [
    {
     "data": {
      "text/plain": [
       "array(['일본', '대만', '중국', '미국', '태국', '홍콩', '말레이지아', '러시아', '싱가폴',\n",
       "       '으스트레일리아', '베트남', '인도네시아', '영국', '프랑스', '독일', '필리핀', '마카오', '노르웨이',\n",
       "       '브라질', '버뮤다', '캐나다', '벨기에', '네덜란드', '뉴질랜드', '이탈리아', '스페인', '멕시코',\n",
       "       '칠레', '아랍에미레이트', '아르헨티나', '덴마크', '스웨덴', '브루나이드루살렘', '스위스', '우크라이나',\n",
       "       '오스트리아', '쿠웨이트', '터키', '사우디아라비아', '핀란드', '라오스', '이스라엘', '아일랜드',\n",
       "       '슬로바키아', '에콰도르', '체코', '조지아', '콜롬비아', '폴란드', '남아프리카공화국', '포르투칼',\n",
       "       '카타르', '푸에르토리코', '카자흐스탄', '에스토니아', '헝가리', '루마니아', '크로아티아', '파마나',\n",
       "       '케냐', '발레루스', '코스타리카', '모로코', '괌', '슬로베니아', '불가리', '온두라스',\n",
       "       '보스니아헤르체고비치', '인도', '오스트레일리아', '싸이프러스', '미얀ㅇ마', '바하마', '벨라루스',\n",
       "       '베네수엘라', '몽고', '아이슬랜드', '파라과이', '캄보디아', '미얀마', '그리스', '리투아니아',\n",
       "       '가나', '탄자니아', '룩셈부르크', 'ㅗㄹ란드', '불가리아', '엘살바도르', '파키스탄', '페루', '체크',\n",
       "       '벨라르스', '코트디부아르', '이집트', '허가리', '도미니카', '오만', '니카라과', '짐바브웨',\n",
       "       '레바논', '파나마', '라트비아', '스리랑카', '키르기스스탄', '알제리', '오스트레', '보츠와나',\n",
       "       '푸에르', '파푸아뉴기니', '트리니나드토바고', '콰테말라', '우즈베키스탄', '투르크메니스탄', '아제르바이잔',\n",
       "       '나이지리아', '자메이카', '카메룬', '세르비아', '아체르바이잔', '몰디브', '콩고', '볼리비아',\n",
       "       '방글라데시', '우루과이', '보스니아헤르체고비나', '앙골라', '몬테네그로', '바레인', '트리니나드바고',\n",
       "       '메시코', '카자흐스틴', '예멘', '세네갈', '렐라루스', '알바니아', '미안마', '과테말라', '잠비아',\n",
       "       '몰도바'], dtype=object)"
      ]
     },
     "execution_count": 11,
     "metadata": {},
     "output_type": "execute_result"
    }
   ],
   "source": [
    "df['COUNTRY_NM'].unique() # 나라명 오탈자 확인"
   ]
  },
  {
   "cell_type": "code",
   "execution_count": 12,
   "metadata": {
    "colab": {
     "base_uri": "https://localhost:8080/"
    },
    "executionInfo": {
     "elapsed": 20,
     "status": "ok",
     "timestamp": 1631772921423,
     "user": {
      "displayName": "Eunseo Yi",
      "photoUrl": "https://lh3.googleusercontent.com/a/default-user=s64",
      "userId": "08808842678818930164"
     },
     "user_tz": -540
    },
    "id": "JpwGumU8QFsF",
    "outputId": "58bd4811-9c1b-4884-90ea-a5f1a767dfe5"
   },
   "outputs": [
    {
     "name": "stdout",
     "output_type": "stream",
     "text": [
      "{'일본': 87, '대만': 67, '중국': 86, '미국': 95, '태국': 63, '홍콩': 66, '말레이지아': 46, '러시아': 81, '싱가폴': 70, '으스트레일리아': 1, '베트남': 61, '인도네시아': 76, '영국': 86, '프랑스': 82, '독일': 71, '필리핀': 56, '마카오': 11, '노르웨이': 46, '브라질': 46, '버뮤다': 9, '캐나다': 73, '벨기에': 54, '네덜란드': 51, '뉴질랜드': 38, '이탈리아': 57, '스페인': 60, '멕시코': 60, '칠레': 26, '아랍에미레이트': 43, '아르헨티나': 16, '덴마크': 51, '스웨덴': 52, '브루나이드루살렘': 7, '스위스': 54, '우크라이나': 47, '오스트리아': 40, '쿠웨이트': 14, '터키': 38, '사우디아라비아': 33, '핀란드': 54, '라오스': 10, '이스라엘': 24, '아일랜드': 38, '슬로바키아': 16, '에콰도르': 11, '체코': 41, '조지아': 3, '콜롬비아': 43, '폴란드': 47, '남아프리카공화국': 33, '포르투칼': 16, '카타르': 26, '푸에르토리코': 39, '카자흐스탄': 53, '에스토니아': 31, '헝가리': 28, '루마니아': 26, '크로아티아': 20, '파마나': 1, '케냐': 5, '발레루스': 1, '코스타리카': 18, '모로코': 9, '괌': 10, '슬로베니아': 9, '불가리': 1, '온두라스': 9, '보스니아헤르체고비치': 6, '인도': 48, '오스트레일리아': 75, '싸이프러스': 15, '미얀ㅇ마': 1, '바하마': 47, '벨라루스': 29, '베네수엘라': 37, '몽고': 30, '아이슬랜드': 11, '파라과이': 16, '캄보디아': 19, '미얀마': 16, '그리스': 34, '리투아니아': 28, '가나': 4, '탄자니아': 8, '룩셈부르크': 20, 'ㅗㄹ란드': 1, '불가리아': 9, '엘살바도르': 8, '파키스탄': 7, '페루': 33, '체크': 1, '벨라르스': 1, '코트디부아르': 2, '이집트': 7, '허가리': 1, '도미니카': 7, '오만': 22, '니카라과': 4, '짐바브웨': 1, '레바논': 1, '파나마': 22, '라트비아': 9, '스리랑카': 12, '키르기스스탄': 3, '알제리': 2, '오스트레': 1, '보츠와나': 4, '푸에르': 1, '파푸아뉴기니': 1, '트리니나드토바고': 2, '콰테말라': 1, '우즈베키스탄': 5, '투르크메니스탄': 2, '아제르바이잔': 2, '나이지리아': 2, '자메이카': 5, '카메룬': 1, '세르비아': 1, '아체르바이잔': 1, '몰디브': 1, '콩고': 3, '볼리비아': 3, '방글라데시': 3, '우루과이': 2, '보스니아헤르체고비나': 4, '앙골라': 1, '몬테네그로': 1, '바레인': 1, '트리니나드바고': 1, '메시코': 2, '카자흐스틴': 1, '예멘': 1, '세네갈': 1, '렐라루스': 1, '알바니아': 4, '미안마': 1, '과테말라': 1, '잠비아': 1, '몰도바': 1}\n"
     ]
    }
   ],
   "source": [
    "# 나라명 갯수 확인\n",
    "country_list = df['COUNTRY_NM'].unique()\n",
    "country_dict = {}\n",
    "for country in country_list:\n",
    "    country_dict[f'{country}'] = 0\n",
    "for coun in df['COUNTRY_NM']:\n",
    "    country_dict[f'{coun}'] += 1\n",
    "print(country_dict)"
   ]
  },
  {
   "cell_type": "code",
   "execution_count": 13,
   "metadata": {
    "executionInfo": {
     "elapsed": 16,
     "status": "ok",
     "timestamp": 1631772921424,
     "user": {
      "displayName": "Eunseo Yi",
      "photoUrl": "https://lh3.googleusercontent.com/a/default-user=s64",
      "userId": "08808842678818930164"
     },
     "user_tz": -540
    },
    "id": "0Dk9n4MyPh0r"
   },
   "outputs": [],
   "source": [
    "# 나라명 오탈자 처리\n",
    "df['COUNTRY_NM'] = df['COUNTRY_NM'].apply(lambda x : x.replace('으스트레일리아', '오스트레일리아'))\n",
    "df['COUNTRY_NM'] = df['COUNTRY_NM'].apply(lambda x : x.replace('파마나', '파나마'))\n",
    "df['COUNTRY_NM'] = df['COUNTRY_NM'].apply(lambda x : x.replace('발레루스', '벨라루스'))\n",
    "df['COUNTRY_NM'] = df['COUNTRY_NM'].apply(lambda x : x.replace('벨라르스', '벨라루스'))\n",
    "df['COUNTRY_NM'] = df['COUNTRY_NM'].apply(lambda x : x.replace('체크', '체코'))\n",
    "df['COUNTRY_NM'] = df['COUNTRY_NM'].apply(lambda x : x.replace('ㅗㄹ란드', '폴란드'))\n",
    "df['COUNTRY_NM'] = df['COUNTRY_NM'].apply(lambda x : x.replace('허가리', '헝가리'))\n",
    "df['COUNTRY_NM'] = df['COUNTRY_NM'].apply(lambda x : x.replace( '메시코', '멕시코'))\n",
    "df['COUNTRY_NM'] = df['COUNTRY_NM'].apply(lambda x : x.replace( '말레이지아', '말레이시아'))\n",
    "df['COUNTRY_NM'] = df['COUNTRY_NM'].apply(lambda x : x.replace( '응일리아', '오스트레'))\n",
    "df['COUNTRY_NM'] = df['COUNTRY_NM'].apply(lambda x : x.replace( '카자흐스틴','카자흐스탄'))\n",
    "df['COUNTRY_NM'] = df['COUNTRY_NM'].apply(lambda x : x.replace( '미안마','미얀마'))\n",
    "df['COUNTRY_NM'] = df['COUNTRY_NM'].apply(lambda x : x.replace('파마나', '파나마'))\n",
    "df['COUNTRY_NM'] = df['COUNTRY_NM'].apply(lambda x : x.replace('발레루스', '벨라루스'))\n",
    "df['COUNTRY_NM'] = df['COUNTRY_NM'].apply(lambda x : x.replace('렐라루스', '벨라루스'))\n",
    "df['COUNTRY_NM'] = df['COUNTRY_NM'].apply(lambda x : x.replace('벨라르스', '벨라루스'))\n",
    "df['COUNTRY_NM'] = df['COUNTRY_NM'].apply(lambda x : x.replace('미얀ㅇ마', '미얀마'))\n",
    "df['COUNTRY_NM'] = df['COUNTRY_NM'].apply(lambda x : x.replace('말레이지아', '말레이시아'))\n",
    "df['COUNTRY_NM'] = df['COUNTRY_NM'].apply(lambda x : x.replace('포르투칼', '포르투갈'))\n",
    "df['COUNTRY_NM'] = df['COUNTRY_NM'].apply(lambda x : x.replace('트리니나드바고', '트리니다드바고'))\n",
    "df['COUNTRY_NM'] = df['COUNTRY_NM'].apply(lambda x : x.replace('아체르바이잔', '아제르바이잔'))\n",
    "df['COUNTRY_NM'] = df['COUNTRY_NM'].apply(lambda x : x.replace('콰테말라', '과테말라'))\n",
    "df['COUNTRY_NM'] = df['COUNTRY_NM'].apply(lambda x : x.replace('트리니나드토바고', '트리니다드바고'))\n",
    "df['COUNTRY_NM'] = df['COUNTRY_NM'].apply(lambda x : x.replace('푸에르', '푸에르토리코'))\n",
    "df['COUNTRY_NM'] = df['COUNTRY_NM'].apply(lambda x : x.replace('보스니아헤르체고비치', '보스니아헤르체고비나'))\n",
    "df['COUNTRY_NM'] = df['COUNTRY_NM'].apply(lambda x : x.replace('불가리', '불가리아'))\n"
   ]
  },
  {
   "cell_type": "code",
   "execution_count": 14,
   "metadata": {
    "colab": {
     "base_uri": "https://localhost:8080/"
    },
    "executionInfo": {
     "elapsed": 13,
     "status": "ok",
     "timestamp": 1631772921901,
     "user": {
      "displayName": "Eunseo Yi",
      "photoUrl": "https://lh3.googleusercontent.com/a/default-user=s64",
      "userId": "08808842678818930164"
     },
     "user_tz": -540
    },
    "id": "6Qyivrb-Xidi",
    "outputId": "21a05c75-536f-4494-f435-6276c538908d"
   },
   "outputs": [
    {
     "name": "stdout",
     "output_type": "stream",
     "text": [
      "{'일본': 87, '대만': 67, '중국': 86, '미국': 95, '태국': 63, '홍콩': 66, '말레이시아': 46, '러시아': 81, '싱가폴': 70, '오스트레일리아': 76, '베트남': 61, '인도네시아': 76, '영국': 86, '프랑스': 82, '독일': 71, '필리핀': 56, '마카오': 11, '노르웨이': 46, '브라질': 46, '버뮤다': 9, '캐나다': 73, '벨기에': 54, '네덜란드': 51, '뉴질랜드': 38, '이탈리아': 57, '스페인': 60, '멕시코': 62, '칠레': 26, '아랍에미레이트': 43, '아르헨티나': 16, '덴마크': 51, '스웨덴': 52, '브루나이드루살렘': 7, '스위스': 54, '우크라이나': 47, '오스트리아': 40, '쿠웨이트': 14, '터키': 38, '사우디아라비아': 33, '핀란드': 54, '라오스': 10, '이스라엘': 24, '아일랜드': 38, '슬로바키아': 16, '에콰도르': 11, '체코': 42, '조지아': 3, '콜롬비아': 43, '폴란드': 48, '남아프리카공화국': 33, '포르투갈': 16, '카타르': 26, '푸에르토리코토리코': 39, '카자흐스탄': 54, '에스토니아': 31, '헝가리': 29, '루마니아': 26, '크로아티아': 20, '파나마': 23, '케냐': 5, '벨라루스': 32, '코스타리카': 18, '모로코': 9, '괌': 10, '슬로베니아': 9, '불가리아': 1, '온두라스': 9, '보스니아헤르체고비나': 10, '인도': 48, '싸이프러스': 15, '미얀마': 18, '바하마': 47, '베네수엘라': 37, '몽고': 30, '아이슬랜드': 11, '파라과이': 16, '캄보디아': 19, '그리스': 34, '리투아니아': 28, '가나': 4, '탄자니아': 8, '룩셈부르크': 20, '불가리아아': 9, '엘살바도르': 8, '파키스탄': 7, '페루': 33, '코트디부아르': 2, '이집트': 7, '도미니카': 7, '오만': 22, '니카라과': 4, '짐바브웨': 1, '레바논': 1, '라트비아': 9, '스리랑카': 12, '키르기스스탄': 3, '알제리': 2, '오스트레': 1, '보츠와나': 4, '푸에르토리코': 1, '파푸아뉴기니': 1, '트리니다드바고': 3, '과테말라': 2, '우즈베키스탄': 5, '투르크메니스탄': 2, '아제르바이잔': 3, '나이지리아': 2, '자메이카': 5, '카메룬': 1, '세르비아': 1, '몰디브': 1, '콩고': 3, '볼리비아': 3, '방글라데시': 3, '우루과이': 2, '앙골라': 1, '몬테네그로': 1, '바레인': 1, '예멘': 1, '세네갈': 1, '알바니아': 4, '잠비아': 1, '몰도바': 1}\n"
     ]
    }
   ],
   "source": [
    "# 바뀐 결과 확인\n",
    "country_list = df['COUNTRY_NM'].unique()\n",
    "country_dict = {}\n",
    "for country in country_list:\n",
    "    country_dict[f'{country}'] = 0\n",
    "for coun in df['COUNTRY_NM']:\n",
    "    country_dict[f'{coun}'] += 1\n",
    "print(country_dict)"
   ]
  },
  {
   "cell_type": "code",
   "execution_count": 15,
   "metadata": {
    "colab": {
     "base_uri": "https://localhost:8080/"
    },
    "executionInfo": {
     "elapsed": 3555,
     "status": "ok",
     "timestamp": 1631772925450,
     "user": {
      "displayName": "Eunseo Yi",
      "photoUrl": "https://lh3.googleusercontent.com/a/default-user=s64",
      "userId": "08808842678818930164"
     },
     "user_tz": -540
    },
    "id": "RntFyK8kXsR5",
    "outputId": "dd9551fa-7916-4ce8-cbd8-2386d7c9902e"
   },
   "outputs": [
    {
     "name": "stderr",
     "output_type": "stream",
     "text": [
      "/usr/local/lib/python3.7/dist-packages/ipykernel_launcher.py:3: DeprecationWarning: The default dtype for empty Series will be 'object' instead of 'float64' in a future version. Specify a dtype explicitly to silence this warning.\n",
      "  This is separate from the ipykernel package so we can avoid doing imports until\n"
     ]
    },
    {
     "data": {
      "text/plain": [
       "array(['일본', '대만', '중국', '미국', '태국', '홍콩', '말레이시아', '러시아', '싱가폴',\n",
       "       '오스트레일리아', '베트남', '인도네시아', '영국', '프랑스', '독일', '필리핀', '마카오', '노르웨이',\n",
       "       '브라질', '버뮤다', '캐나다', '벨기에', '네덜란드', '뉴질랜드', '이탈리아', '스페인', '멕시코',\n",
       "       '칠레', '아랍에미레이트', '아르헨티나', '덴마크', '스웨덴', '브루나이드루살렘', '스위스', '우크라이나',\n",
       "       '오스트리아', '쿠웨이트', '터키', '사우디아라비아', '핀란드', '라오스', '이스라엘', '아일랜드',\n",
       "       '슬로바키아', '에콰도르', '체코', '조지아', '콜롬비아', '폴란드', '남아프리카공화국', '포르투갈',\n",
       "       '카타르', '푸에르토리코토리코', '카자흐스탄', '에스토니아', '헝가리', '루마니아', '크로아티아',\n",
       "       '파나마', '케냐', '벨라루스', '코스타리카', '모로코', '괌', '슬로베니아', '불가리아', '온두라스',\n",
       "       '보스니아헤르체고비나', '인도', '싸이프러스', '미얀마', '바하마', '베네수엘라', '몽고', '아이슬랜드',\n",
       "       '파라과이', '캄보디아', '그리스', '리투아니아', '가나', '탄자니아', '룩셈부르크', '불가리아아',\n",
       "       '엘살바도르', '파키스탄', '페루', '코트디부아르', '이집트', '도미니카', '오만', '니카라과',\n",
       "       '짐바브웨', '레바논', '라트비아', '스리랑카', '키르기스스탄', '알제리', '보츠와나', '푸에르토리코',\n",
       "       '파푸아뉴기니', '트리니다드바고', '과테말라', '우즈베키스탄', '투르크메니스탄', '아제르바이잔',\n",
       "       '나이지리아', '자메이카', '카메룬', '세르비아', '몰디브', '콩고', '볼리비아', '방글라데시',\n",
       "       '우루과이', '앙골라', '몬테네그로', '바레인', '예멘', '세네갈', '알바니아', '잠비아', '몰도바'],\n",
       "      dtype=object)"
      ]
     },
     "execution_count": 15,
     "metadata": {},
     "output_type": "execute_result"
    }
   ],
   "source": [
    "def myreplace(series):\n",
    "    probidx = []\n",
    "    myseries = pd.Series([])\n",
    "    for i, val in enumerate(series):\n",
    "        if val == '오스트레':\n",
    "            probidx.append(i)\n",
    "            myseries[i] = '오스트레일리아'\n",
    "        else:\n",
    "            myseries[i] = val\n",
    "    return myseries\n",
    "  \n",
    "df['COUNTRY_NM'] = myreplace(df['COUNTRY_NM'])\n",
    "df['COUNTRY_NM'].unique()"
   ]
  },
  {
   "cell_type": "code",
   "execution_count": 16,
   "metadata": {
    "colab": {
     "base_uri": "https://localhost:8080/"
    },
    "executionInfo": {
     "elapsed": 46,
     "status": "ok",
     "timestamp": 1631772925451,
     "user": {
      "displayName": "Eunseo Yi",
      "photoUrl": "https://lh3.googleusercontent.com/a/default-user=s64",
      "userId": "08808842678818930164"
     },
     "user_tz": -540
    },
    "id": "2DKee_2ofBBD",
    "outputId": "a66b3aba-36e4-4b8c-f657-86adad6e33ce"
   },
   "outputs": [
    {
     "data": {
      "text/plain": [
       "array(['일본', '대만', '중국', '미국', '태국', '홍콩', '말레이시아', '러시아', '싱가폴',\n",
       "       '오스트레일리아', '베트남', '인도네시아', '영국', '프랑스', '독일', '필리핀', '마카오', '노르웨이',\n",
       "       '브라질', '버뮤다', '캐나다', '벨기에', '네덜란드', '뉴질랜드', '이탈리아', '스페인', '멕시코',\n",
       "       '칠레', '아랍에미레이트', '아르헨티나', '덴마크', '스웨덴', '브루나이드루살렘', '스위스', '우크라이나',\n",
       "       '오스트리아', '쿠웨이트', '터키', '사우디아라비아', '핀란드', '라오스', '이스라엘', '아일랜드',\n",
       "       '슬로바키아', '에콰도르', '체코', '조지아', '콜롬비아', '폴란드', '남아프리카공화국', '포르투갈',\n",
       "       '카타르', '푸에르토리코토리코', '카자흐스탄', '에스토니아', '헝가리', '루마니아', '크로아티아',\n",
       "       '파나마', '케냐', '벨라루스', '코스타리카', '모로코', '괌', '슬로베니아', '불가리아', '온두라스',\n",
       "       '보스니아헤르체고비나', '인도', '싸이프러스', '미얀마', '바하마', '베네수엘라', '몽고', '아이슬랜드',\n",
       "       '파라과이', '캄보디아', '그리스', '리투아니아', '가나', '탄자니아', '룩셈부르크', '불가리아아',\n",
       "       '엘살바도르', '파키스탄', '페루', '코트디부아르', '이집트', '도미니카', '오만', '니카라과',\n",
       "       '짐바브웨', '레바논', '라트비아', '스리랑카', '키르기스스탄', '알제리', '보츠와나', '푸에르토리코',\n",
       "       '파푸아뉴기니', '트리니다드바고', '과테말라', '우즈베키스탄', '투르크메니스탄', '아제르바이잔',\n",
       "       '나이지리아', '자메이카', '카메룬', '세르비아', '몰디브', '콩고', '볼리비아', '방글라데시',\n",
       "       '우루과이', '앙골라', '몬테네그로', '바레인', '예멘', '세네갈', '알바니아', '잠비아', '몰도바'],\n",
       "      dtype=object)"
      ]
     },
     "execution_count": 16,
     "metadata": {},
     "output_type": "execute_result"
    }
   ],
   "source": [
    "df['COUNTRY_NM'].unique() # 나라명 오탈자 처리 완료"
   ]
  },
  {
   "cell_type": "markdown",
   "metadata": {
    "id": "1KJcT_fdg5Mb"
   },
   "source": [
    "## 그룹별 평균 소비 금액 분석 (관광지별, 나라별, 분기별)"
   ]
  },
  {
   "cell_type": "code",
   "execution_count": 17,
   "metadata": {
    "colab": {
     "base_uri": "https://localhost:8080/",
     "height": 417
    },
    "executionInfo": {
     "elapsed": 44,
     "status": "ok",
     "timestamp": 1631772925453,
     "user": {
      "displayName": "Eunseo Yi",
      "photoUrl": "https://lh3.googleusercontent.com/a/default-user=s64",
      "userId": "08808842678818930164"
     },
     "user_tz": -540
    },
    "id": "uhrQJtmcvJIK",
    "outputId": "df86f2d2-c585-40eb-9f43-604a5f034c7c"
   },
   "outputs": [
    {
     "data": {
      "text/html": [
       "<div>\n",
       "<style scoped>\n",
       "    .dataframe tbody tr th:only-of-type {\n",
       "        vertical-align: middle;\n",
       "    }\n",
       "\n",
       "    .dataframe tbody tr th {\n",
       "        vertical-align: top;\n",
       "    }\n",
       "\n",
       "    .dataframe thead th {\n",
       "        text-align: right;\n",
       "    }\n",
       "</style>\n",
       "<table border=\"1\" class=\"dataframe\">\n",
       "  <thead>\n",
       "    <tr style=\"text-align: right;\">\n",
       "      <th></th>\n",
       "      <th>PLACE_NM</th>\n",
       "      <th>COUNTRY_NM</th>\n",
       "      <th>CARD_UTILIIZA_PRICE</th>\n",
       "      <th>CARD_UTILIIZA_CAS_CO</th>\n",
       "      <th>BASE_QUARTER</th>\n",
       "      <th>AVG_CARD_UTILIIZA_PRICE</th>\n",
       "    </tr>\n",
       "  </thead>\n",
       "  <tbody>\n",
       "    <tr>\n",
       "      <th>0</th>\n",
       "      <td>BIFF광장&amp;용두산공원&amp;보수동책방골목</td>\n",
       "      <td>일본</td>\n",
       "      <td>226489999</td>\n",
       "      <td>5228</td>\n",
       "      <td>2020년 1분기</td>\n",
       "      <td>43322.494070</td>\n",
       "    </tr>\n",
       "    <tr>\n",
       "      <th>1</th>\n",
       "      <td>BIFF광장&amp;용두산공원&amp;보수동책방골목</td>\n",
       "      <td>대만</td>\n",
       "      <td>159608606</td>\n",
       "      <td>2703</td>\n",
       "      <td>2020년 1분기</td>\n",
       "      <td>59048.688864</td>\n",
       "    </tr>\n",
       "    <tr>\n",
       "      <th>2</th>\n",
       "      <td>BIFF광장&amp;용두산공원&amp;보수동책방골목</td>\n",
       "      <td>중국</td>\n",
       "      <td>53957560</td>\n",
       "      <td>864</td>\n",
       "      <td>2020년 1분기</td>\n",
       "      <td>62450.879630</td>\n",
       "    </tr>\n",
       "    <tr>\n",
       "      <th>3</th>\n",
       "      <td>BIFF광장&amp;용두산공원&amp;보수동책방골목</td>\n",
       "      <td>미국</td>\n",
       "      <td>48896670</td>\n",
       "      <td>1477</td>\n",
       "      <td>2020년 1분기</td>\n",
       "      <td>33105.396073</td>\n",
       "    </tr>\n",
       "    <tr>\n",
       "      <th>4</th>\n",
       "      <td>BIFF광장&amp;용두산공원&amp;보수동책방골목</td>\n",
       "      <td>태국</td>\n",
       "      <td>16107500</td>\n",
       "      <td>335</td>\n",
       "      <td>2020년 1분기</td>\n",
       "      <td>48082.089552</td>\n",
       "    </tr>\n",
       "    <tr>\n",
       "      <th>...</th>\n",
       "      <td>...</td>\n",
       "      <td>...</td>\n",
       "      <td>...</td>\n",
       "      <td>...</td>\n",
       "      <td>...</td>\n",
       "      <td>...</td>\n",
       "    </tr>\n",
       "    <tr>\n",
       "      <th>3297</th>\n",
       "      <td>흰여울문화마을</td>\n",
       "      <td>콜롬비아</td>\n",
       "      <td>11000</td>\n",
       "      <td>2</td>\n",
       "      <td>2021년 1분기</td>\n",
       "      <td>5500.000000</td>\n",
       "    </tr>\n",
       "    <tr>\n",
       "      <th>3298</th>\n",
       "      <td>흰여울문화마을</td>\n",
       "      <td>그리스</td>\n",
       "      <td>10000</td>\n",
       "      <td>1</td>\n",
       "      <td>2021년 1분기</td>\n",
       "      <td>10000.000000</td>\n",
       "    </tr>\n",
       "    <tr>\n",
       "      <th>3299</th>\n",
       "      <td>흰여울문화마을</td>\n",
       "      <td>오스트레일리아</td>\n",
       "      <td>10000</td>\n",
       "      <td>1</td>\n",
       "      <td>2021년 1분기</td>\n",
       "      <td>10000.000000</td>\n",
       "    </tr>\n",
       "    <tr>\n",
       "      <th>3300</th>\n",
       "      <td>흰여울문화마을</td>\n",
       "      <td>스웨덴</td>\n",
       "      <td>6500</td>\n",
       "      <td>1</td>\n",
       "      <td>2021년 1분기</td>\n",
       "      <td>6500.000000</td>\n",
       "    </tr>\n",
       "    <tr>\n",
       "      <th>3301</th>\n",
       "      <td>흰여울문화마을</td>\n",
       "      <td>태국</td>\n",
       "      <td>5000</td>\n",
       "      <td>1</td>\n",
       "      <td>2021년 1분기</td>\n",
       "      <td>5000.000000</td>\n",
       "    </tr>\n",
       "  </tbody>\n",
       "</table>\n",
       "<p>3302 rows × 6 columns</p>\n",
       "</div>"
      ],
      "text/plain": [
       "                  PLACE_NM COUNTRY_NM  ...  BASE_QUARTER  AVG_CARD_UTILIIZA_PRICE\n",
       "0     BIFF광장&용두산공원&보수동책방골목         일본  ...     2020년 1분기             43322.494070\n",
       "1     BIFF광장&용두산공원&보수동책방골목         대만  ...     2020년 1분기             59048.688864\n",
       "2     BIFF광장&용두산공원&보수동책방골목         중국  ...     2020년 1분기             62450.879630\n",
       "3     BIFF광장&용두산공원&보수동책방골목         미국  ...     2020년 1분기             33105.396073\n",
       "4     BIFF광장&용두산공원&보수동책방골목         태국  ...     2020년 1분기             48082.089552\n",
       "...                    ...        ...  ...           ...                      ...\n",
       "3297               흰여울문화마을       콜롬비아  ...     2021년 1분기              5500.000000\n",
       "3298               흰여울문화마을        그리스  ...     2021년 1분기             10000.000000\n",
       "3299               흰여울문화마을    오스트레일리아  ...     2021년 1분기             10000.000000\n",
       "3300               흰여울문화마을        스웨덴  ...     2021년 1분기              6500.000000\n",
       "3301               흰여울문화마을         태국  ...     2021년 1분기              5000.000000\n",
       "\n",
       "[3302 rows x 6 columns]"
      ]
     },
     "execution_count": 17,
     "metadata": {},
     "output_type": "execute_result"
    }
   ],
   "source": [
    "df['AVG_CARD_UTILIIZA_PRICE'] = df['CARD_UTILIIZA_PRICE'] / df['CARD_UTILIIZA_CAS_CO']; df # 평균 소비금액 컬럼 추가"
   ]
  },
  {
   "cell_type": "code",
   "execution_count": 18,
   "metadata": {
    "colab": {
     "base_uri": "https://localhost:8080/",
     "height": 417
    },
    "executionInfo": {
     "elapsed": 41,
     "status": "ok",
     "timestamp": 1631772925454,
     "user": {
      "displayName": "Eunseo Yi",
      "photoUrl": "https://lh3.googleusercontent.com/a/default-user=s64",
      "userId": "08808842678818930164"
     },
     "user_tz": -540
    },
    "id": "j9n5KX5DfGUM",
    "outputId": "8e2860a3-c85f-4592-b31c-3811b58df428"
   },
   "outputs": [
    {
     "data": {
      "text/html": [
       "<div>\n",
       "<style scoped>\n",
       "    .dataframe tbody tr th:only-of-type {\n",
       "        vertical-align: middle;\n",
       "    }\n",
       "\n",
       "    .dataframe tbody tr th {\n",
       "        vertical-align: top;\n",
       "    }\n",
       "\n",
       "    .dataframe thead th {\n",
       "        text-align: right;\n",
       "    }\n",
       "</style>\n",
       "<table border=\"1\" class=\"dataframe\">\n",
       "  <thead>\n",
       "    <tr style=\"text-align: right;\">\n",
       "      <th></th>\n",
       "      <th>PLACE_NM</th>\n",
       "      <th>COUNTRY_NM</th>\n",
       "      <th>mean_CARD_UTILIIZA_PRICE</th>\n",
       "    </tr>\n",
       "  </thead>\n",
       "  <tbody>\n",
       "    <tr>\n",
       "      <th>0</th>\n",
       "      <td>BIFF광장&amp;용두산공원&amp;보수동책방골목</td>\n",
       "      <td>가나</td>\n",
       "      <td>8000.0</td>\n",
       "    </tr>\n",
       "    <tr>\n",
       "      <th>1</th>\n",
       "      <td>BIFF광장&amp;용두산공원&amp;보수동책방골목</td>\n",
       "      <td>괌</td>\n",
       "      <td>11100.0</td>\n",
       "    </tr>\n",
       "    <tr>\n",
       "      <th>2</th>\n",
       "      <td>BIFF광장&amp;용두산공원&amp;보수동책방골목</td>\n",
       "      <td>그리스</td>\n",
       "      <td>81350.0</td>\n",
       "    </tr>\n",
       "    <tr>\n",
       "      <th>3</th>\n",
       "      <td>BIFF광장&amp;용두산공원&amp;보수동책방골목</td>\n",
       "      <td>남아프리카공화국</td>\n",
       "      <td>46200.0</td>\n",
       "    </tr>\n",
       "    <tr>\n",
       "      <th>4</th>\n",
       "      <td>BIFF광장&amp;용두산공원&amp;보수동책방골목</td>\n",
       "      <td>네덜란드</td>\n",
       "      <td>233725.0</td>\n",
       "    </tr>\n",
       "    <tr>\n",
       "      <th>...</th>\n",
       "      <td>...</td>\n",
       "      <td>...</td>\n",
       "      <td>...</td>\n",
       "    </tr>\n",
       "    <tr>\n",
       "      <th>1067</th>\n",
       "      <td>흰여울문화마을</td>\n",
       "      <td>파나마</td>\n",
       "      <td>6000.0</td>\n",
       "    </tr>\n",
       "    <tr>\n",
       "      <th>1068</th>\n",
       "      <td>흰여울문화마을</td>\n",
       "      <td>프랑스</td>\n",
       "      <td>32880.0</td>\n",
       "    </tr>\n",
       "    <tr>\n",
       "      <th>1069</th>\n",
       "      <td>흰여울문화마을</td>\n",
       "      <td>핀란드</td>\n",
       "      <td>9950.0</td>\n",
       "    </tr>\n",
       "    <tr>\n",
       "      <th>1070</th>\n",
       "      <td>흰여울문화마을</td>\n",
       "      <td>필리핀</td>\n",
       "      <td>16820.0</td>\n",
       "    </tr>\n",
       "    <tr>\n",
       "      <th>1071</th>\n",
       "      <td>흰여울문화마을</td>\n",
       "      <td>홍콩</td>\n",
       "      <td>16750.0</td>\n",
       "    </tr>\n",
       "  </tbody>\n",
       "</table>\n",
       "<p>1072 rows × 3 columns</p>\n",
       "</div>"
      ],
      "text/plain": [
       "                  PLACE_NM COUNTRY_NM  mean_CARD_UTILIIZA_PRICE\n",
       "0     BIFF광장&용두산공원&보수동책방골목         가나                    8000.0\n",
       "1     BIFF광장&용두산공원&보수동책방골목          괌                   11100.0\n",
       "2     BIFF광장&용두산공원&보수동책방골목        그리스                   81350.0\n",
       "3     BIFF광장&용두산공원&보수동책방골목   남아프리카공화국                   46200.0\n",
       "4     BIFF광장&용두산공원&보수동책방골목       네덜란드                  233725.0\n",
       "...                    ...        ...                       ...\n",
       "1067               흰여울문화마을        파나마                    6000.0\n",
       "1068               흰여울문화마을        프랑스                   32880.0\n",
       "1069               흰여울문화마을        핀란드                    9950.0\n",
       "1070               흰여울문화마을        필리핀                   16820.0\n",
       "1071               흰여울문화마을         홍콩                   16750.0\n",
       "\n",
       "[1072 rows x 3 columns]"
      ]
     },
     "execution_count": 18,
     "metadata": {},
     "output_type": "execute_result"
    }
   ],
   "source": [
    "df2 = df.groupby(['PLACE_NM','COUNTRY_NM'])['CARD_UTILIIZA_PRICE'].agg(**{'mean_CARD_UTILIIZA_PRICE':'mean'}).reset_index(); df2 # 관광지별 소비금액"
   ]
  },
  {
   "cell_type": "code",
   "execution_count": 19,
   "metadata": {
    "colab": {
     "base_uri": "https://localhost:8080/",
     "height": 417
    },
    "executionInfo": {
     "elapsed": 36,
     "status": "ok",
     "timestamp": 1631772925454,
     "user": {
      "displayName": "Eunseo Yi",
      "photoUrl": "https://lh3.googleusercontent.com/a/default-user=s64",
      "userId": "08808842678818930164"
     },
     "user_tz": -540
    },
    "id": "czsrEMv8aJII",
    "outputId": "b28ee197-de47-432e-8636-ec7abab7cb7e"
   },
   "outputs": [
    {
     "data": {
      "text/html": [
       "<div>\n",
       "<style scoped>\n",
       "    .dataframe tbody tr th:only-of-type {\n",
       "        vertical-align: middle;\n",
       "    }\n",
       "\n",
       "    .dataframe tbody tr th {\n",
       "        vertical-align: top;\n",
       "    }\n",
       "\n",
       "    .dataframe thead th {\n",
       "        text-align: right;\n",
       "    }\n",
       "</style>\n",
       "<table border=\"1\" class=\"dataframe\">\n",
       "  <thead>\n",
       "    <tr style=\"text-align: right;\">\n",
       "      <th></th>\n",
       "      <th>COUNTRY_NM</th>\n",
       "      <th>PLACE_NM</th>\n",
       "      <th>mean_CARD_UTILIIZA_PRICE</th>\n",
       "    </tr>\n",
       "  </thead>\n",
       "  <tbody>\n",
       "    <tr>\n",
       "      <th>0</th>\n",
       "      <td>가나</td>\n",
       "      <td>BIFF광장&amp;용두산공원&amp;보수동책방골목</td>\n",
       "      <td>8000.0</td>\n",
       "    </tr>\n",
       "    <tr>\n",
       "      <th>1</th>\n",
       "      <td>가나</td>\n",
       "      <td>부산 서면</td>\n",
       "      <td>436950.0</td>\n",
       "    </tr>\n",
       "    <tr>\n",
       "      <th>2</th>\n",
       "      <td>가나</td>\n",
       "      <td>센텀시티(신세계센텀 등)</td>\n",
       "      <td>98000.0</td>\n",
       "    </tr>\n",
       "    <tr>\n",
       "      <th>3</th>\n",
       "      <td>과테말라</td>\n",
       "      <td>부산 서면</td>\n",
       "      <td>289200.0</td>\n",
       "    </tr>\n",
       "    <tr>\n",
       "      <th>4</th>\n",
       "      <td>과테말라</td>\n",
       "      <td>해운대 해수욕장</td>\n",
       "      <td>30000.0</td>\n",
       "    </tr>\n",
       "    <tr>\n",
       "      <th>...</th>\n",
       "      <td>...</td>\n",
       "      <td>...</td>\n",
       "      <td>...</td>\n",
       "    </tr>\n",
       "    <tr>\n",
       "      <th>1067</th>\n",
       "      <td>홍콩</td>\n",
       "      <td>자갈치·국제시장·부평깡통야시장</td>\n",
       "      <td>579280.0</td>\n",
       "    </tr>\n",
       "    <tr>\n",
       "      <th>1068</th>\n",
       "      <td>홍콩</td>\n",
       "      <td>전포카페거리</td>\n",
       "      <td>196470.0</td>\n",
       "    </tr>\n",
       "    <tr>\n",
       "      <th>1069</th>\n",
       "      <td>홍콩</td>\n",
       "      <td>태종대</td>\n",
       "      <td>10500.0</td>\n",
       "    </tr>\n",
       "    <tr>\n",
       "      <th>1070</th>\n",
       "      <td>홍콩</td>\n",
       "      <td>해운대 해수욕장</td>\n",
       "      <td>67582916.6</td>\n",
       "    </tr>\n",
       "    <tr>\n",
       "      <th>1071</th>\n",
       "      <td>홍콩</td>\n",
       "      <td>흰여울문화마을</td>\n",
       "      <td>16750.0</td>\n",
       "    </tr>\n",
       "  </tbody>\n",
       "</table>\n",
       "<p>1072 rows × 3 columns</p>\n",
       "</div>"
      ],
      "text/plain": [
       "     COUNTRY_NM              PLACE_NM  mean_CARD_UTILIIZA_PRICE\n",
       "0            가나  BIFF광장&용두산공원&보수동책방골목                    8000.0\n",
       "1            가나                 부산 서면                  436950.0\n",
       "2            가나         센텀시티(신세계센텀 등)                   98000.0\n",
       "3          과테말라                 부산 서면                  289200.0\n",
       "4          과테말라              해운대 해수욕장                   30000.0\n",
       "...         ...                   ...                       ...\n",
       "1067         홍콩      자갈치·국제시장·부평깡통야시장                  579280.0\n",
       "1068         홍콩                전포카페거리                  196470.0\n",
       "1069         홍콩                   태종대                   10500.0\n",
       "1070         홍콩              해운대 해수욕장                67582916.6\n",
       "1071         홍콩               흰여울문화마을                   16750.0\n",
       "\n",
       "[1072 rows x 3 columns]"
      ]
     },
     "execution_count": 19,
     "metadata": {},
     "output_type": "execute_result"
    }
   ],
   "source": [
    "df3 = df.groupby(['COUNTRY_NM','PLACE_NM'])['CARD_UTILIIZA_PRICE'].agg(**{'mean_CARD_UTILIIZA_PRICE':'mean'}).reset_index(); df3 # 나라별 소비금액"
   ]
  },
  {
   "cell_type": "code",
   "execution_count": 20,
   "metadata": {
    "colab": {
     "base_uri": "https://localhost:8080/",
     "height": 417
    },
    "executionInfo": {
     "elapsed": 34,
     "status": "ok",
     "timestamp": 1631772925455,
     "user": {
      "displayName": "Eunseo Yi",
      "photoUrl": "https://lh3.googleusercontent.com/a/default-user=s64",
      "userId": "08808842678818930164"
     },
     "user_tz": -540
    },
    "id": "nobGNxvGKdJm",
    "outputId": "87091ed8-ab6c-4eae-d144-48b8af9263e8"
   },
   "outputs": [
    {
     "data": {
      "text/html": [
       "<div>\n",
       "<style scoped>\n",
       "    .dataframe tbody tr th:only-of-type {\n",
       "        vertical-align: middle;\n",
       "    }\n",
       "\n",
       "    .dataframe tbody tr th {\n",
       "        vertical-align: top;\n",
       "    }\n",
       "\n",
       "    .dataframe thead th {\n",
       "        text-align: right;\n",
       "    }\n",
       "</style>\n",
       "<table border=\"1\" class=\"dataframe\">\n",
       "  <thead>\n",
       "    <tr style=\"text-align: right;\">\n",
       "      <th></th>\n",
       "      <th>BASE_QUARTER</th>\n",
       "      <th>PLACE_NM</th>\n",
       "      <th>mean_CARD_UTILIIZA_PRICE</th>\n",
       "    </tr>\n",
       "  </thead>\n",
       "  <tbody>\n",
       "    <tr>\n",
       "      <th>0</th>\n",
       "      <td>2020년 1분기</td>\n",
       "      <td>BIFF광장&amp;용두산공원&amp;보수동책방골목</td>\n",
       "      <td>8.798511e+06</td>\n",
       "    </tr>\n",
       "    <tr>\n",
       "      <th>1</th>\n",
       "      <td>2020년 1분기</td>\n",
       "      <td>감천문화마을</td>\n",
       "      <td>1.455301e+06</td>\n",
       "    </tr>\n",
       "    <tr>\n",
       "      <th>2</th>\n",
       "      <td>2020년 1분기</td>\n",
       "      <td>광안리해수욕장</td>\n",
       "      <td>3.196265e+06</td>\n",
       "    </tr>\n",
       "    <tr>\n",
       "      <th>3</th>\n",
       "      <td>2020년 1분기</td>\n",
       "      <td>다대포해수욕장(굼의 낙조분수, 몰운대)</td>\n",
       "      <td>7.838812e+04</td>\n",
       "    </tr>\n",
       "    <tr>\n",
       "      <th>4</th>\n",
       "      <td>2020년 1분기</td>\n",
       "      <td>동백섬&amp;누리마루APEC하우스</td>\n",
       "      <td>7.821044e+06</td>\n",
       "    </tr>\n",
       "    <tr>\n",
       "      <th>...</th>\n",
       "      <td>...</td>\n",
       "      <td>...</td>\n",
       "      <td>...</td>\n",
       "    </tr>\n",
       "    <tr>\n",
       "      <th>90</th>\n",
       "      <td>2021년 1분기</td>\n",
       "      <td>자갈치·국제시장·부평깡통야시장</td>\n",
       "      <td>9.694154e+05</td>\n",
       "    </tr>\n",
       "    <tr>\n",
       "      <th>91</th>\n",
       "      <td>2021년 1분기</td>\n",
       "      <td>전포카페거리</td>\n",
       "      <td>2.803553e+05</td>\n",
       "    </tr>\n",
       "    <tr>\n",
       "      <th>92</th>\n",
       "      <td>2021년 1분기</td>\n",
       "      <td>태종대</td>\n",
       "      <td>7.869000e+04</td>\n",
       "    </tr>\n",
       "    <tr>\n",
       "      <th>93</th>\n",
       "      <td>2021년 1분기</td>\n",
       "      <td>해운대 해수욕장</td>\n",
       "      <td>2.150271e+07</td>\n",
       "    </tr>\n",
       "    <tr>\n",
       "      <th>94</th>\n",
       "      <td>2021년 1분기</td>\n",
       "      <td>흰여울문화마을</td>\n",
       "      <td>2.840500e+04</td>\n",
       "    </tr>\n",
       "  </tbody>\n",
       "</table>\n",
       "<p>95 rows × 3 columns</p>\n",
       "</div>"
      ],
      "text/plain": [
       "   BASE_QUARTER               PLACE_NM  mean_CARD_UTILIIZA_PRICE\n",
       "0     2020년 1분기   BIFF광장&용두산공원&보수동책방골목              8.798511e+06\n",
       "1     2020년 1분기                 감천문화마을              1.455301e+06\n",
       "2     2020년 1분기                광안리해수욕장              3.196265e+06\n",
       "3     2020년 1분기  다대포해수욕장(굼의 낙조분수, 몰운대)              7.838812e+04\n",
       "4     2020년 1분기        동백섬&누리마루APEC하우스              7.821044e+06\n",
       "..          ...                    ...                       ...\n",
       "90    2021년 1분기       자갈치·국제시장·부평깡통야시장              9.694154e+05\n",
       "91    2021년 1분기                 전포카페거리              2.803553e+05\n",
       "92    2021년 1분기                    태종대              7.869000e+04\n",
       "93    2021년 1분기               해운대 해수욕장              2.150271e+07\n",
       "94    2021년 1분기                흰여울문화마을              2.840500e+04\n",
       "\n",
       "[95 rows x 3 columns]"
      ]
     },
     "execution_count": 20,
     "metadata": {},
     "output_type": "execute_result"
    }
   ],
   "source": [
    "df4 = df.groupby(['BASE_QUARTER','PLACE_NM'])['CARD_UTILIIZA_PRICE'].agg(**{'mean_CARD_UTILIIZA_PRICE':'mean'}).reset_index(); df4 # 분기별 소비금액(관광지별)"
   ]
  },
  {
   "cell_type": "code",
   "execution_count": 21,
   "metadata": {
    "colab": {
     "base_uri": "https://localhost:8080/",
     "height": 417
    },
    "executionInfo": {
     "elapsed": 32,
     "status": "ok",
     "timestamp": 1631772925455,
     "user": {
      "displayName": "Eunseo Yi",
      "photoUrl": "https://lh3.googleusercontent.com/a/default-user=s64",
      "userId": "08808842678818930164"
     },
     "user_tz": -540
    },
    "id": "B4bbjbVwLU8f",
    "outputId": "a149b6c4-1a60-47ce-f5b1-168e14b426fc"
   },
   "outputs": [
    {
     "data": {
      "text/html": [
       "<div>\n",
       "<style scoped>\n",
       "    .dataframe tbody tr th:only-of-type {\n",
       "        vertical-align: middle;\n",
       "    }\n",
       "\n",
       "    .dataframe tbody tr th {\n",
       "        vertical-align: top;\n",
       "    }\n",
       "\n",
       "    .dataframe thead th {\n",
       "        text-align: right;\n",
       "    }\n",
       "</style>\n",
       "<table border=\"1\" class=\"dataframe\">\n",
       "  <thead>\n",
       "    <tr style=\"text-align: right;\">\n",
       "      <th></th>\n",
       "      <th>BASE_QUARTER</th>\n",
       "      <th>COUNTRY_NM</th>\n",
       "      <th>mean_CARD_UTILIIZA_PRICE</th>\n",
       "    </tr>\n",
       "  </thead>\n",
       "  <tbody>\n",
       "    <tr>\n",
       "      <th>0</th>\n",
       "      <td>2020년 1분기</td>\n",
       "      <td>괌</td>\n",
       "      <td>8.310000e+04</td>\n",
       "    </tr>\n",
       "    <tr>\n",
       "      <th>1</th>\n",
       "      <td>2020년 1분기</td>\n",
       "      <td>그리스</td>\n",
       "      <td>1.657333e+05</td>\n",
       "    </tr>\n",
       "    <tr>\n",
       "      <th>2</th>\n",
       "      <td>2020년 1분기</td>\n",
       "      <td>남아프리카공화국</td>\n",
       "      <td>1.561714e+05</td>\n",
       "    </tr>\n",
       "    <tr>\n",
       "      <th>3</th>\n",
       "      <td>2020년 1분기</td>\n",
       "      <td>네덜란드</td>\n",
       "      <td>1.588448e+06</td>\n",
       "    </tr>\n",
       "    <tr>\n",
       "      <th>4</th>\n",
       "      <td>2020년 1분기</td>\n",
       "      <td>노르웨이</td>\n",
       "      <td>1.103269e+07</td>\n",
       "    </tr>\n",
       "    <tr>\n",
       "      <th>...</th>\n",
       "      <td>...</td>\n",
       "      <td>...</td>\n",
       "      <td>...</td>\n",
       "    </tr>\n",
       "    <tr>\n",
       "      <th>467</th>\n",
       "      <td>2021년 1분기</td>\n",
       "      <td>프랑스</td>\n",
       "      <td>1.406965e+06</td>\n",
       "    </tr>\n",
       "    <tr>\n",
       "      <th>468</th>\n",
       "      <td>2021년 1분기</td>\n",
       "      <td>핀란드</td>\n",
       "      <td>1.932232e+05</td>\n",
       "    </tr>\n",
       "    <tr>\n",
       "      <th>469</th>\n",
       "      <td>2021년 1분기</td>\n",
       "      <td>필리핀</td>\n",
       "      <td>3.985020e+05</td>\n",
       "    </tr>\n",
       "    <tr>\n",
       "      <th>470</th>\n",
       "      <td>2021년 1분기</td>\n",
       "      <td>헝가리</td>\n",
       "      <td>1.320000e+04</td>\n",
       "    </tr>\n",
       "    <tr>\n",
       "      <th>471</th>\n",
       "      <td>2021년 1분기</td>\n",
       "      <td>홍콩</td>\n",
       "      <td>1.377207e+07</td>\n",
       "    </tr>\n",
       "  </tbody>\n",
       "</table>\n",
       "<p>472 rows × 3 columns</p>\n",
       "</div>"
      ],
      "text/plain": [
       "    BASE_QUARTER COUNTRY_NM  mean_CARD_UTILIIZA_PRICE\n",
       "0      2020년 1분기          괌              8.310000e+04\n",
       "1      2020년 1분기        그리스              1.657333e+05\n",
       "2      2020년 1분기   남아프리카공화국              1.561714e+05\n",
       "3      2020년 1분기       네덜란드              1.588448e+06\n",
       "4      2020년 1분기       노르웨이              1.103269e+07\n",
       "..           ...        ...                       ...\n",
       "467    2021년 1분기        프랑스              1.406965e+06\n",
       "468    2021년 1분기        핀란드              1.932232e+05\n",
       "469    2021년 1분기        필리핀              3.985020e+05\n",
       "470    2021년 1분기        헝가리              1.320000e+04\n",
       "471    2021년 1분기         홍콩              1.377207e+07\n",
       "\n",
       "[472 rows x 3 columns]"
      ]
     },
     "execution_count": 21,
     "metadata": {},
     "output_type": "execute_result"
    }
   ],
   "source": [
    "df5 = df.groupby(['BASE_QUARTER','COUNTRY_NM'])['CARD_UTILIIZA_PRICE'].agg(**{'mean_CARD_UTILIIZA_PRICE':'mean'}).reset_index(); df5 # 분기별 소비금액(나라별)"
   ]
  },
  {
   "cell_type": "code",
   "execution_count": 22,
   "metadata": {
    "colab": {
     "base_uri": "https://localhost:8080/",
     "height": 417
    },
    "executionInfo": {
     "elapsed": 31,
     "status": "ok",
     "timestamp": 1631772925456,
     "user": {
      "displayName": "Eunseo Yi",
      "photoUrl": "https://lh3.googleusercontent.com/a/default-user=s64",
      "userId": "08808842678818930164"
     },
     "user_tz": -540
    },
    "id": "baCpUIfjaXRg",
    "outputId": "e31f00ba-0e9d-4eac-8dad-e72d4bd9a736"
   },
   "outputs": [
    {
     "data": {
      "text/html": [
       "<div>\n",
       "<style scoped>\n",
       "    .dataframe tbody tr th:only-of-type {\n",
       "        vertical-align: middle;\n",
       "    }\n",
       "\n",
       "    .dataframe tbody tr th {\n",
       "        vertical-align: top;\n",
       "    }\n",
       "\n",
       "    .dataframe thead th {\n",
       "        text-align: right;\n",
       "    }\n",
       "</style>\n",
       "<table border=\"1\" class=\"dataframe\">\n",
       "  <thead>\n",
       "    <tr style=\"text-align: right;\">\n",
       "      <th></th>\n",
       "      <th>PLACE_NM</th>\n",
       "      <th>COUNTRY_NM</th>\n",
       "      <th>mean_CARD_UTILIIZA_PRICE</th>\n",
       "    </tr>\n",
       "  </thead>\n",
       "  <tbody>\n",
       "    <tr>\n",
       "      <th>520</th>\n",
       "      <td>센텀시티(신세계센텀 등)</td>\n",
       "      <td>미국</td>\n",
       "      <td>793615623.0</td>\n",
       "    </tr>\n",
       "    <tr>\n",
       "      <th>971</th>\n",
       "      <td>해운대 해수욕장</td>\n",
       "      <td>미국</td>\n",
       "      <td>778305948.6</td>\n",
       "    </tr>\n",
       "    <tr>\n",
       "      <th>990</th>\n",
       "      <td>해운대 해수욕장</td>\n",
       "      <td>싱가폴</td>\n",
       "      <td>666858633.4</td>\n",
       "    </tr>\n",
       "    <tr>\n",
       "      <th>412</th>\n",
       "      <td>부산 서면</td>\n",
       "      <td>미국</td>\n",
       "      <td>573083492.0</td>\n",
       "    </tr>\n",
       "    <tr>\n",
       "      <th>457</th>\n",
       "      <td>부산 서면</td>\n",
       "      <td>중국</td>\n",
       "      <td>354694089.0</td>\n",
       "    </tr>\n",
       "    <tr>\n",
       "      <th>...</th>\n",
       "      <td>...</td>\n",
       "      <td>...</td>\n",
       "      <td>...</td>\n",
       "    </tr>\n",
       "    <tr>\n",
       "      <th>285</th>\n",
       "      <td>다대포해수욕장(굼의 낙조분수, 몰운대)</td>\n",
       "      <td>핀란드</td>\n",
       "      <td>1000.0</td>\n",
       "    </tr>\n",
       "    <tr>\n",
       "      <th>713</th>\n",
       "      <td>오륙도&amp;이기대 갈맷길</td>\n",
       "      <td>엘살바도르</td>\n",
       "      <td>1000.0</td>\n",
       "    </tr>\n",
       "    <tr>\n",
       "      <th>203</th>\n",
       "      <td>광안리해수욕장</td>\n",
       "      <td>알제리</td>\n",
       "      <td>950.0</td>\n",
       "    </tr>\n",
       "    <tr>\n",
       "      <th>47</th>\n",
       "      <td>BIFF광장&amp;용두산공원&amp;보수동책방골목</td>\n",
       "      <td>엘살바도르</td>\n",
       "      <td>700.0</td>\n",
       "    </tr>\n",
       "    <tr>\n",
       "      <th>737</th>\n",
       "      <td>을숙도</td>\n",
       "      <td>그리스</td>\n",
       "      <td>300.0</td>\n",
       "    </tr>\n",
       "  </tbody>\n",
       "</table>\n",
       "<p>1072 rows × 3 columns</p>\n",
       "</div>"
      ],
      "text/plain": [
       "                  PLACE_NM COUNTRY_NM  mean_CARD_UTILIIZA_PRICE\n",
       "520          센텀시티(신세계센텀 등)         미국               793615623.0\n",
       "971               해운대 해수욕장         미국               778305948.6\n",
       "990               해운대 해수욕장        싱가폴               666858633.4\n",
       "412                  부산 서면         미국               573083492.0\n",
       "457                  부산 서면         중국               354694089.0\n",
       "..                     ...        ...                       ...\n",
       "285  다대포해수욕장(굼의 낙조분수, 몰운대)        핀란드                    1000.0\n",
       "713            오륙도&이기대 갈맷길      엘살바도르                    1000.0\n",
       "203                광안리해수욕장        알제리                     950.0\n",
       "47    BIFF광장&용두산공원&보수동책방골목      엘살바도르                     700.0\n",
       "737                    을숙도        그리스                     300.0\n",
       "\n",
       "[1072 rows x 3 columns]"
      ]
     },
     "execution_count": 22,
     "metadata": {},
     "output_type": "execute_result"
    }
   ],
   "source": [
    "df2.sort_values(by='mean_CARD_UTILIIZA_PRICE',ascending=False)"
   ]
  },
  {
   "cell_type": "code",
   "execution_count": 23,
   "metadata": {
    "colab": {
     "base_uri": "https://localhost:8080/",
     "height": 417
    },
    "executionInfo": {
     "elapsed": 29,
     "status": "ok",
     "timestamp": 1631772925456,
     "user": {
      "displayName": "Eunseo Yi",
      "photoUrl": "https://lh3.googleusercontent.com/a/default-user=s64",
      "userId": "08808842678818930164"
     },
     "user_tz": -540
    },
    "id": "hfH0HidCraAw",
    "outputId": "fa60fa59-181b-4c92-95b3-ad5333b4d717"
   },
   "outputs": [
    {
     "data": {
      "text/html": [
       "<div>\n",
       "<style scoped>\n",
       "    .dataframe tbody tr th:only-of-type {\n",
       "        vertical-align: middle;\n",
       "    }\n",
       "\n",
       "    .dataframe tbody tr th {\n",
       "        vertical-align: top;\n",
       "    }\n",
       "\n",
       "    .dataframe thead th {\n",
       "        text-align: right;\n",
       "    }\n",
       "</style>\n",
       "<table border=\"1\" class=\"dataframe\">\n",
       "  <thead>\n",
       "    <tr style=\"text-align: right;\">\n",
       "      <th></th>\n",
       "      <th>COUNTRY_NM</th>\n",
       "      <th>PLACE_NM</th>\n",
       "      <th>mean_CARD_UTILIIZA_PRICE</th>\n",
       "    </tr>\n",
       "  </thead>\n",
       "  <tbody>\n",
       "    <tr>\n",
       "      <th>257</th>\n",
       "      <td>미국</td>\n",
       "      <td>센텀시티(신세계센텀 등)</td>\n",
       "      <td>793615623.0</td>\n",
       "    </tr>\n",
       "    <tr>\n",
       "      <th>266</th>\n",
       "      <td>미국</td>\n",
       "      <td>해운대 해수욕장</td>\n",
       "      <td>778305948.6</td>\n",
       "    </tr>\n",
       "    <tr>\n",
       "      <th>485</th>\n",
       "      <td>싱가폴</td>\n",
       "      <td>해운대 해수욕장</td>\n",
       "      <td>666858633.4</td>\n",
       "    </tr>\n",
       "    <tr>\n",
       "      <th>255</th>\n",
       "      <td>미국</td>\n",
       "      <td>부산 서면</td>\n",
       "      <td>573083492.0</td>\n",
       "    </tr>\n",
       "    <tr>\n",
       "      <th>748</th>\n",
       "      <td>중국</td>\n",
       "      <td>부산 서면</td>\n",
       "      <td>354694089.0</td>\n",
       "    </tr>\n",
       "    <tr>\n",
       "      <th>...</th>\n",
       "      <td>...</td>\n",
       "      <td>...</td>\n",
       "      <td>...</td>\n",
       "    </tr>\n",
       "    <tr>\n",
       "      <th>570</th>\n",
       "      <td>엘살바도르</td>\n",
       "      <td>오륙도&amp;이기대 갈맷길</td>\n",
       "      <td>1000.0</td>\n",
       "    </tr>\n",
       "    <tr>\n",
       "      <th>1016</th>\n",
       "      <td>핀란드</td>\n",
       "      <td>다대포해수욕장(굼의 낙조분수, 몰운대)</td>\n",
       "      <td>1000.0</td>\n",
       "    </tr>\n",
       "    <tr>\n",
       "      <th>542</th>\n",
       "      <td>알제리</td>\n",
       "      <td>광안리해수욕장</td>\n",
       "      <td>950.0</td>\n",
       "    </tr>\n",
       "    <tr>\n",
       "      <th>565</th>\n",
       "      <td>엘살바도르</td>\n",
       "      <td>BIFF광장&amp;용두산공원&amp;보수동책방골목</td>\n",
       "      <td>700.0</td>\n",
       "    </tr>\n",
       "    <tr>\n",
       "      <th>22</th>\n",
       "      <td>그리스</td>\n",
       "      <td>을숙도</td>\n",
       "      <td>300.0</td>\n",
       "    </tr>\n",
       "  </tbody>\n",
       "</table>\n",
       "<p>1072 rows × 3 columns</p>\n",
       "</div>"
      ],
      "text/plain": [
       "     COUNTRY_NM               PLACE_NM  mean_CARD_UTILIIZA_PRICE\n",
       "257          미국          센텀시티(신세계센텀 등)               793615623.0\n",
       "266          미국               해운대 해수욕장               778305948.6\n",
       "485         싱가폴               해운대 해수욕장               666858633.4\n",
       "255          미국                  부산 서면               573083492.0\n",
       "748          중국                  부산 서면               354694089.0\n",
       "...         ...                    ...                       ...\n",
       "570       엘살바도르            오륙도&이기대 갈맷길                    1000.0\n",
       "1016        핀란드  다대포해수욕장(굼의 낙조분수, 몰운대)                    1000.0\n",
       "542         알제리                광안리해수욕장                     950.0\n",
       "565       엘살바도르   BIFF광장&용두산공원&보수동책방골목                     700.0\n",
       "22          그리스                    을숙도                     300.0\n",
       "\n",
       "[1072 rows x 3 columns]"
      ]
     },
     "execution_count": 23,
     "metadata": {},
     "output_type": "execute_result"
    }
   ],
   "source": [
    "df3.sort_values(by='mean_CARD_UTILIIZA_PRICE',ascending=False)"
   ]
  },
  {
   "cell_type": "markdown",
   "metadata": {
    "id": "GxzThh1cvulS"
   },
   "source": [
    "## 소비 금액 분석 결과 (시각화)"
   ]
  },
  {
   "cell_type": "code",
   "execution_count": 24,
   "metadata": {
    "executionInfo": {
     "elapsed": 27,
     "status": "ok",
     "timestamp": 1631772925457,
     "user": {
      "displayName": "Eunseo Yi",
      "photoUrl": "https://lh3.googleusercontent.com/a/default-user=s64",
      "userId": "08808842678818930164"
     },
     "user_tz": -540
    },
    "id": "uZVk4B1CV0k1"
   },
   "outputs": [],
   "source": [
    "# 그룹핑 함수 정의\n",
    "def grouping(col):\n",
    "    global df\n",
    "    dff = df.copy()\n",
    "    dff = dff.groupby(col).sum()\n",
    "    dff.reset_index(inplace=True)\n",
    "    fd = dff.sort_values(by='CARD_UTILIIZA_PRICE', ascending=False)\n",
    "    fd = fd[:10]\n",
    "    fd.sort_values(by='CARD_UTILIIZA_PRICE', ascending=True, inplace=True)\n",
    "    fd.reset_index(inplace=True, drop=True)\n",
    "    return fd\n",
    "\n",
    "\n",
    "# text 삽입 함수 정의\n",
    "def plottext(col):\n",
    "    lastidx = list(fd.index)[-1]\n",
    "    plt.xlim(0, fd.loc[lastidx]['CARD_UTILIIZA_PRICE'] * 1.4)\n",
    "    for i, place in enumerate(fd[col][:10]):\n",
    "        plt.text(fd['CARD_UTILIIZA_PRICE'][i] - 1, fd[col][i],\n",
    "                 f'{int(fd[\"CARD_UTILIIZA_PRICE\"][i]):,}원')"
   ]
  },
  {
   "cell_type": "code",
   "execution_count": 30,
   "metadata": {
    "colab": {
     "base_uri": "https://localhost:8080/",
     "height": 328
    },
    "executionInfo": {
     "elapsed": 690,
     "status": "ok",
     "timestamp": 1631773002647,
     "user": {
      "displayName": "Eunseo Yi",
      "photoUrl": "https://lh3.googleusercontent.com/a/default-user=s64",
      "userId": "08808842678818930164"
     },
     "user_tz": -540
    },
    "id": "hjA14Q_FVGUG",
    "outputId": "d50d3cd7-2e4c-4c14-b311-47d3a47ce2fa"
   },
   "outputs": [
    {
     "data": {
      "image/png": "[encoded data removed]",
      "text/plain": [
       "<Figure size 432x288 with 1 Axes>"
      ]
     },
     "metadata": {
      "needs_background": "light"
     },
     "output_type": "display_data"
    },
    {
     "data": {
      "text/plain": [
       "<Figure size 960x640 with 0 Axes>"
      ]
     },
     "execution_count": 30,
     "metadata": {},
     "output_type": "execute_result"
    },
    {
     "data": {
      "text/plain": [
       "<Figure size 960x640 with 0 Axes>"
      ]
     },
     "metadata": {},
     "output_type": "display_data"
    }
   ],
   "source": [
    "# 나라 별\n",
    "fd = grouping('COUNTRY_NM')\n",
    "plt.barh(fd['COUNTRY_NM'][:10], fd['CARD_UTILIIZA_PRICE'][:10], color='tomato')\n",
    "plt.title('나라 별 카드 매출')\n",
    "plt.xlabel('카드 매출')\n",
    "plt.ylabel('나라')\n",
    "plottext('COUNTRY_NM')\n",
    "plt.show()\n",
    "figure(figsize=(12, 8), dpi=80)"
   ]
  },
  {
   "cell_type": "code",
   "execution_count": 31,
   "metadata": {
    "colab": {
     "base_uri": "https://localhost:8080/",
     "height": 328
    },
    "executionInfo": {
     "elapsed": 656,
     "status": "ok",
     "timestamp": 1631773033020,
     "user": {
      "displayName": "Eunseo Yi",
      "photoUrl": "https://lh3.googleusercontent.com/a/default-user=s64",
      "userId": "08808842678818930164"
     },
     "user_tz": -540
    },
    "id": "j_UuzkgbWLBe",
    "outputId": "fc78fdaf-996c-4df2-edfb-c9078b7e5deb"
   },
   "outputs": [
    {
     "data": {
      "image/png": "[encoded data removed]",
      "text/plain": [
       "<Figure size 432x288 with 1 Axes>"
      ]
     },
     "metadata": {
      "needs_background": "light"
     },
     "output_type": "display_data"
    },
    {
     "data": {
      "text/plain": [
       "<Figure size 960x640 with 0 Axes>"
      ]
     },
     "execution_count": 31,
     "metadata": {},
     "output_type": "execute_result"
    },
    {
     "data": {
      "text/plain": [
       "<Figure size 960x640 with 0 Axes>"
      ]
     },
     "metadata": {},
     "output_type": "display_data"
    }
   ],
   "source": [
    "# 관광지 별\n",
    "fd = grouping('PLACE_NM')\n",
    "plt.barh(fd['PLACE_NM'][:10], fd['CARD_UTILIIZA_PRICE'][:10], color='tomato')\n",
    "plt.title('관광지 별 카드 매출')\n",
    "plt.xlabel('카드 매출')\n",
    "plt.ylabel('관광지')\n",
    "plottext('PLACE_NM')\n",
    "plt.show()\n",
    "figure(figsize=(12, 8), dpi=80)"
   ]
  },
  {
   "cell_type": "code",
   "execution_count": 27,
   "metadata": {
    "colab": {
     "base_uri": "https://localhost:8080/",
     "height": 294
    },
    "executionInfo": {
     "elapsed": 14,
     "status": "ok",
     "timestamp": 1631772926414,
     "user": {
      "displayName": "Eunseo Yi",
      "photoUrl": "https://lh3.googleusercontent.com/a/default-user=s64",
      "userId": "08808842678818930164"
     },
     "user_tz": -540
    },
    "id": "RK93I1YfWXH1",
    "outputId": "822f715d-7afa-4820-e553-af52d6128776"
   },
   "outputs": [
    {
     "data": {
      "image/png": "[encoded data removed]",
      "text/plain": [
       "<Figure size 432x288 with 1 Axes>"
      ]
     },
     "metadata": {
      "needs_background": "light"
     },
     "output_type": "display_data"
    }
   ],
   "source": [
    "# 분기 별\n",
    "fd = grouping('BASE_QUARTER')\n",
    "plt.barh(fd['BASE_QUARTER'][:10], fd['CARD_UTILIIZA_PRICE'][:10], color='tomato')\n",
    "plt.title('분기 별 카드 매출')\n",
    "plt.xlabel('카드 매출')\n",
    "plt.ylabel('분기(2020년 1분기~2021년 1분기)')\n",
    "plottext('BASE_QUARTER')\n",
    "plt.show()\n",
    "figure(figsize=(12, 8), dpi=80)"
   ]
  },
  {
   "cell_type": "markdown",
   "metadata": {
    "id": "r3c4v4Iyv3sb"
   },
   "source": [
    "## DataFrame -> MySQL table 변환"
   ]
  },
  {
   "cell_type": "code",
   "execution_count": 27,
   "metadata": {
    "executionInfo": {
     "elapsed": 12,
     "status": "ok",
     "timestamp": 1631772926415,
     "user": {
      "displayName": "Eunseo Yi",
      "photoUrl": "https://lh3.googleusercontent.com/a/default-user=s64",
      "userId": "08808842678818930164"
     },
     "user_tz": -540
    },
    "id": "CQZcFmVjnpjk"
   },
   "outputs": [],
   "source": []
  }
 ],
 "metadata": {
  "colab": {
   "collapsed_sections": [],
   "name": "5조 아자아자 화이자.ipynb의 사본",
   "provenance": [
    {
     "file_id": "1U7GizyYZDsnKOITKYA4NbRL6npdsJVyk",
     "timestamp": 1631683830354
    }
   ]
  },
  "kernelspec": {
   "display_name": "Python 3",
   "language": "python",
   "name": "python3"
  },
  "language_info": {
   "codemirror_mode": {
    "name": "ipython",
    "version": 3
   },
   "file_extension": ".py",
   "mimetype": "text/x-python",
   "name": "python",
   "nbconvert_exporter": "python",
   "pygments_lexer": "ipython3",
   "version": "3.8.8"
  },
  "toc": {
   "base_numbering": 1,
   "nav_menu": {},
   "number_sections": true,
   "sideBar": true,
   "skip_h1_title": false,
   "title_cell": "Table of Contents",
   "title_sidebar": "Contents",
   "toc_cell": false,
   "toc_position": {},
   "toc_section_display": true,
   "toc_window_display": false
  }
 },
 "nbformat": 4,
 "nbformat_minor": 1
}
